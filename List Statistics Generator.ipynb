{
 "cells": [
  {
   "cell_type": "markdown",
   "id": "864c3118-cbed-429e-aa19-ab5bf535e9e3",
   "metadata": {},
   "source": [
    "# List Statistics Generator\n",
    "\n",
    "Build a program that generates statistics for a given list of integers:\n",
    "\n",
    "Mean (average) of the numbers.\n",
    "Median of the numbers.\n",
    "Range of the numbers (difference between the maximum and minimum)."
   ]
  },
  {
   "cell_type": "code",
   "execution_count": null,
   "id": "1a416ded-6d30-47d4-bc48-f34e8a10f480",
   "metadata": {},
   "outputs": [],
   "source": [
    "list_input = input(\"Enter your integers separated by spaces: \")\n",
    "List = list(map(int, list_input.split()))\n",
    "\n",
    "import statistics\n",
    "\n",
    "mean_value = sum (List) / len (List)\n",
    "median_value = statistics.median(List)\n",
    "range_value = max (List) - min (List)\n",
    "\n",
    "print ('Mean: ' +str( mean_value ))\n",
    "print ('Median: ' +str( median_value ))\n",
    "print ('Range: ' +str( range_value ))"
   ]
  }
 ],
 "metadata": {
  "kernelspec": {
   "display_name": "Python 3 (ipykernel)",
   "language": "python",
   "name": "python3"
  },
  "language_info": {
   "codemirror_mode": {
    "name": "ipython",
    "version": 3
   },
   "file_extension": ".py",
   "mimetype": "text/x-python",
   "name": "python",
   "nbconvert_exporter": "python",
   "pygments_lexer": "ipython3",
   "version": "3.11.5"
  }
 },
 "nbformat": 4,
 "nbformat_minor": 5
}
